{
  "nbformat": 4,
  "nbformat_minor": 0,
  "metadata": {
    "colab": {
      "name": "ImdbSentimentAnalysis.ipynb",
      "provenance": []
    },
    "kernelspec": {
      "name": "python3",
      "display_name": "Python 3"
    },
    "language_info": {
      "name": "python"
    }
  },
  "cells": [
    {
      "cell_type": "code",
      "metadata": {
        "id": "lnPKlMc7YPz6"
      },
      "source": [
        "import numpy as np\n",
        "import matplotlib.pyplot as plt\n",
        "import seaborn as sns\n",
        "\n",
        "from scipy import stats\n",
        "from keras.datasets import imdb\n",
        "from keras.preprocessing.sequence import pad_sequences\n",
        "from keras.models import Sequential\n",
        "from keras.layers.embeddings import Embedding\n",
        "from keras.layers import SimpleRNN, Dense, Activation\n"
      ],
      "execution_count": 11,
      "outputs": []
    },
    {
      "cell_type": "code",
      "metadata": {
        "colab": {
          "base_uri": "https://localhost:8080/"
        },
        "id": "LJcJ4PfAZx-4",
        "outputId": "5113b0a6-439d-4772-f203-85dc10af7644"
      },
      "source": [
        "(X_train, Y_train), (X_test, Y_test)=imdb.load_data(path= \"imdb.npz\",\n",
        "               num_words=None,\n",
        "               skip_top=0,\n",
        "               maxlen=None,\n",
        "               seed=113,\n",
        "               start_char=1,\n",
        "               oov_char=2,\n",
        "               index_from=3)"
      ],
      "execution_count": 5,
      "outputs": [
        {
          "output_type": "stream",
          "text": [
            "Downloading data from https://storage.googleapis.com/tensorflow/tf-keras-datasets/imdb.npz\n",
            "17465344/17464789 [==============================] - 0s 0us/step\n"
          ],
          "name": "stdout"
        },
        {
          "output_type": "stream",
          "text": [
            "<string>:6: VisibleDeprecationWarning: Creating an ndarray from ragged nested sequences (which is a list-or-tuple of lists-or-tuples-or ndarrays with different lengths or shapes) is deprecated. If you meant to do this, you must specify 'dtype=object' when creating the ndarray\n",
            "/usr/local/lib/python3.7/dist-packages/tensorflow/python/keras/datasets/imdb.py:159: VisibleDeprecationWarning: Creating an ndarray from ragged nested sequences (which is a list-or-tuple of lists-or-tuples-or ndarrays with different lengths or shapes) is deprecated. If you meant to do this, you must specify 'dtype=object' when creating the ndarray\n",
            "  x_train, y_train = np.array(xs[:idx]), np.array(labels[:idx])\n",
            "/usr/local/lib/python3.7/dist-packages/tensorflow/python/keras/datasets/imdb.py:160: VisibleDeprecationWarning: Creating an ndarray from ragged nested sequences (which is a list-or-tuple of lists-or-tuples-or ndarrays with different lengths or shapes) is deprecated. If you meant to do this, you must specify 'dtype=object' when creating the ndarray\n",
            "  x_test, y_test = np.array(xs[idx:]), np.array(labels[idx:])\n"
          ],
          "name": "stderr"
        }
      ]
    },
    {
      "cell_type": "code",
      "metadata": {
        "colab": {
          "base_uri": "https://localhost:8080/"
        },
        "id": "TVUIawWYa4Q_",
        "outputId": "c356a88b-24be-4bd2-b59b-160050b4038e"
      },
      "source": [
        "print(\"Type: \", type(X_train))\n",
        "print(\"Type: \", type(Y_train))\n",
        "\n",
        "print(\"X train shape: \",X_train.shape)\n",
        "print(\"Y train shape: \",Y_train.shape)"
      ],
      "execution_count": 7,
      "outputs": [
        {
          "output_type": "stream",
          "text": [
            "Type:  <class 'numpy.ndarray'>\n",
            "Type:  <class 'numpy.ndarray'>\n",
            "X train shape:  (25000,)\n",
            "Y train shape:  (25000,)\n"
          ],
          "name": "stdout"
        }
      ]
    },
    {
      "cell_type": "code",
      "metadata": {
        "colab": {
          "base_uri": "https://localhost:8080/",
          "height": 868
        },
        "id": "1sFUt1VveYFC",
        "outputId": "21786cc8-c183-48ce-f90f-bae4028c32d9"
      },
      "source": [
        "print(\"Y train values: \",np.unique(Y_train))\n",
        "print(\"Y test values: \",np.unique(Y_test))\n",
        "\n",
        "unique, counts = np.unique(Y_train, return_counts = True)\n",
        "print(\"Y train distribution: \",dict(zip(unique,counts)))\n",
        "\n",
        "unique, counts = np.unique(Y_test, return_counts = True)\n",
        "print(\"Y testdistribution: \",dict(zip(unique,counts)))\n",
        "\n",
        "plt.figure()\n",
        "sns.countplot(Y_train)\n",
        "plt.xlabel(\"Classes\")\n",
        "plt.ylabel(\"Freq\")\n",
        "plt.title(\"Y train\")\n",
        "\n",
        "plt.figure()\n",
        "sns.countplot(Y_test)\n",
        "plt.xlabel(\"Classes\")\n",
        "plt.ylabel(\"Freq\")\n",
        "plt.title(\"Y test\")\n",
        "\n",
        "d = X_train[0]\n",
        "print(d)\n",
        "print(len(d))\n",
        "\n",
        "review_len_train = []\n",
        "review_len_test = []\n",
        "for i, ii in zip(X_train, X_test):\n",
        "    review_len_train.append(len(i))\n",
        "    review_len_test.append(len(ii))\n",
        "\n",
        "sns.distplot(review_len_train, hist_kws = {\"alpha\":0.3})\n",
        "sns.distplot(review_len_test, hist_kws = {\"alpha\":0.3})\n",
        "\n",
        "print(\"Train mean:\", np.mean(review_len_train))\n",
        "print(\"Train median:\", np.median(review_len_train))\n",
        "print(\"Train mode:\", stats.mode(review_len_train))\n",
        "\n"
      ],
      "execution_count": 13,
      "outputs": [
        {
          "output_type": "stream",
          "text": [
            "Y train values:  [0 1]\n",
            "Y test values:  [0 1]\n",
            "Y train distribution:  {0: 12500, 1: 12500}\n",
            "Y testdistribution:  {0: 12500, 1: 12500}\n",
            "[1, 14, 22, 16, 43, 530, 973, 1622, 1385, 65, 458, 4468, 66, 3941, 4, 173, 36, 256, 5, 25, 100, 43, 838, 112, 50, 670, 22665, 9, 35, 480, 284, 5, 150, 4, 172, 112, 167, 21631, 336, 385, 39, 4, 172, 4536, 1111, 17, 546, 38, 13, 447, 4, 192, 50, 16, 6, 147, 2025, 19, 14, 22, 4, 1920, 4613, 469, 4, 22, 71, 87, 12, 16, 43, 530, 38, 76, 15, 13, 1247, 4, 22, 17, 515, 17, 12, 16, 626, 18, 19193, 5, 62, 386, 12, 8, 316, 8, 106, 5, 4, 2223, 5244, 16, 480, 66, 3785, 33, 4, 130, 12, 16, 38, 619, 5, 25, 124, 51, 36, 135, 48, 25, 1415, 33, 6, 22, 12, 215, 28, 77, 52, 5, 14, 407, 16, 82, 10311, 8, 4, 107, 117, 5952, 15, 256, 4, 31050, 7, 3766, 5, 723, 36, 71, 43, 530, 476, 26, 400, 317, 46, 7, 4, 12118, 1029, 13, 104, 88, 4, 381, 15, 297, 98, 32, 2071, 56, 26, 141, 6, 194, 7486, 18, 4, 226, 22, 21, 134, 476, 26, 480, 5, 144, 30, 5535, 18, 51, 36, 28, 224, 92, 25, 104, 4, 226, 65, 16, 38, 1334, 88, 12, 16, 283, 5, 16, 4472, 113, 103, 32, 15, 16, 5345, 19, 178, 32]\n",
            "218\n"
          ],
          "name": "stdout"
        },
        {
          "output_type": "stream",
          "text": [
            "/usr/local/lib/python3.7/dist-packages/seaborn/_decorators.py:43: FutureWarning: Pass the following variable as a keyword arg: x. From version 0.12, the only valid positional argument will be `data`, and passing other arguments without an explicit keyword will result in an error or misinterpretation.\n",
            "  FutureWarning\n",
            "/usr/local/lib/python3.7/dist-packages/seaborn/_decorators.py:43: FutureWarning: Pass the following variable as a keyword arg: x. From version 0.12, the only valid positional argument will be `data`, and passing other arguments without an explicit keyword will result in an error or misinterpretation.\n",
            "  FutureWarning\n",
            "/usr/local/lib/python3.7/dist-packages/seaborn/distributions.py:2557: FutureWarning: `distplot` is a deprecated function and will be removed in a future version. Please adapt your code to use either `displot` (a figure-level function with similar flexibility) or `histplot` (an axes-level function for histograms).\n",
            "  warnings.warn(msg, FutureWarning)\n",
            "/usr/local/lib/python3.7/dist-packages/seaborn/distributions.py:2557: FutureWarning: `distplot` is a deprecated function and will be removed in a future version. Please adapt your code to use either `displot` (a figure-level function with similar flexibility) or `histplot` (an axes-level function for histograms).\n",
            "  warnings.warn(msg, FutureWarning)\n"
          ],
          "name": "stderr"
        },
        {
          "output_type": "stream",
          "text": [
            "Train mean: 238.71364\n",
            "Train median: 178.0\n",
            "Train mode: ModeResult(mode=array([132]), count=array([196]))\n"
          ],
          "name": "stdout"
        },
        {
          "output_type": "display_data",
          "data": {
            "image/png": "[encoded data removed]",
            "text/plain": [
              "<Figure size 432x288 with 1 Axes>"
            ]
          },
          "metadata": {
            "tags": [],
            "needs_background": "light"
          }
        },
        {
          "output_type": "display_data",
          "data": {
            "image/png": "[encoded data removed]",
            "text/plain": [
              "<Figure size 432x288 with 1 Axes>"
            ]
          },
          "metadata": {
            "tags": [],
            "needs_background": "light"
          }
        }
      ]
    },
    {
      "cell_type": "code",
      "metadata": {
        "colab": {
          "base_uri": "https://localhost:8080/"
        },
        "id": "KPq49T7jfhaV",
        "outputId": "ce6a26bd-ee09-4315-a6f0-0f10148a2eae"
      },
      "source": [
        "word_index = imdb.get_word_index()\n",
        "print(type(word_index))\n",
        "print(len(word_index))\n",
        "\n",
        "for keys, values in word_index.items():\n",
        "    if values == 22:\n",
        "        print(keys)\n",
        "\n",
        "def whatItSay(index = 24):\n",
        "    \n",
        "    reverse_index = dict([(value, key) for (key, value) in word_index.items()])\n",
        "    decode_review = \" \".join([reverse_index.get(i - 3, \"!\") for i in X_train[index]])\n",
        "    print(decode_review)\n",
        "    print(Y_train[index])\n",
        "    return decode_review\n",
        "\n",
        "decoded_review = whatItSay(36)"
      ],
      "execution_count": 14,
      "outputs": [
        {
          "output_type": "stream",
          "text": [
            "Downloading data from https://storage.googleapis.com/tensorflow/tf-keras-datasets/imdb_word_index.json\n",
            "1646592/1641221 [==============================] - 0s 0us/step\n",
            "<class 'dict'>\n",
            "88584\n",
            "you\n",
            "! sorry i just didn't find the subject matter as compelling as the filmmaker did the robot guy and the mole rat guy were pretty interesting although morris didn't really tell us much about them the other two subjects were a bore and the supposed connections between them didn't hold up\n",
            "0\n"
          ],
          "name": "stdout"
        }
      ]
    },
    {
      "cell_type": "code",
      "metadata": {
        "colab": {
          "base_uri": "https://localhost:8080/"
        },
        "id": "VAd9rLf1fmyb",
        "outputId": "fb99a797-5f3c-4361-9d93-24fbed6a701f"
      },
      "source": [
        "num_words = 15000\n",
        "(X_train, Y_train), (X_test, Y_test) = imdb.load_data(num_words=num_words)\n",
        "\n",
        "maxlen = 130\n",
        "X_train = pad_sequences(X_train, maxlen=maxlen)\n",
        "X_test = pad_sequences(X_test, maxlen=maxlen)\n",
        "\n",
        "print(X_train[5])\n",
        "\n",
        "for i in X_train[0:10]:\n",
        "    print(len(i))\n",
        "\n",
        "decoded_review = whatItSay(5)"
      ],
      "execution_count": 15,
      "outputs": [
        {
          "output_type": "stream",
          "text": [
            "<string>:6: VisibleDeprecationWarning: Creating an ndarray from ragged nested sequences (which is a list-or-tuple of lists-or-tuples-or ndarrays with different lengths or shapes) is deprecated. If you meant to do this, you must specify 'dtype=object' when creating the ndarray\n",
            "/usr/local/lib/python3.7/dist-packages/tensorflow/python/keras/datasets/imdb.py:159: VisibleDeprecationWarning: Creating an ndarray from ragged nested sequences (which is a list-or-tuple of lists-or-tuples-or ndarrays with different lengths or shapes) is deprecated. If you meant to do this, you must specify 'dtype=object' when creating the ndarray\n",
            "  x_train, y_train = np.array(xs[:idx]), np.array(labels[:idx])\n",
            "/usr/local/lib/python3.7/dist-packages/tensorflow/python/keras/datasets/imdb.py:160: VisibleDeprecationWarning: Creating an ndarray from ragged nested sequences (which is a list-or-tuple of lists-or-tuples-or ndarrays with different lengths or shapes) is deprecated. If you meant to do this, you must specify 'dtype=object' when creating the ndarray\n",
            "  x_test, y_test = np.array(xs[idx:]), np.array(labels[idx:])\n"
          ],
          "name": "stderr"
        },
        {
          "output_type": "stream",
          "text": [
            "[   0    0    0    0    0    0    0    0    0    0    0    0    0    0\n",
            "    0    0    0    0    0    0    0    0    0    0    0    0    0    0\n",
            "    0    0    0    0    0    0    0    0    0    0    0    0    0    0\n",
            "    0    0    0    0    0    0    0    0    0    0    0    0    0    0\n",
            "    0    0    0    0    0    0    0    0    0    0    0    0    0    0\n",
            "    0    0    0    0    0    0    0    0    0    0    0    0    0    0\n",
            "    0    0    0    1  778  128   74   12  630  163   15    4 1766 7982\n",
            " 1051    2   32   85  156   45   40  148  139  121  664  665   10   10\n",
            " 1361  173    4  749    2   16 3804    8    4  226   65   12   43  127\n",
            "   24    2   10   10]\n",
            "130\n",
            "130\n",
            "130\n",
            "130\n",
            "130\n",
            "130\n",
            "130\n",
            "130\n",
            "130\n",
            "130\n",
            "! ! ! ! ! ! ! ! ! ! ! ! ! ! ! ! ! ! ! ! ! ! ! ! ! ! ! ! ! ! ! ! ! ! ! ! ! ! ! ! ! ! ! ! ! ! ! ! ! ! ! ! ! ! ! ! ! ! ! ! ! ! ! ! ! ! ! ! ! ! ! ! ! ! ! ! ! ! ! ! ! ! ! ! ! ! ! ! begins better than it ends funny that the russian submarine crew ! all other actors it's like those scenes where documentary shots br br spoiler part the message ! was contrary to the whole story it just does not ! br br\n",
            "0\n"
          ],
          "name": "stdout"
        }
      ]
    },
    {
      "cell_type": "code",
      "metadata": {
        "colab": {
          "base_uri": "https://localhost:8080/",
          "height": 747
        },
        "id": "CV5YdJaPftBQ",
        "outputId": "676f6c21-66bc-4bab-cb08-e722e19869ba"
      },
      "source": [
        "\n",
        "rnn = Sequential()\n",
        "rnn.add(Embedding(num_words, 32, input_length = len(X_train[0])))\n",
        "rnn.add(SimpleRNN(16, input_shape = (num_words,maxlen), return_sequences= False, activation= \"relu\"))\n",
        "rnn.add(Dense(1))\n",
        "rnn.add(Activation(\"sigmoid\"))\n",
        "\n",
        "print(rnn.summary())\n",
        "rnn.compile(loss = \"binary_crossentropy\", optimizer=\"rmsprop\",metrics= [\"accuracy\"])\n",
        "\n",
        "history = rnn.fit(X_train, Y_train, validation_data= (X_test, Y_test), epochs=5, batch_size= 128, verbose=1)\n",
        "\n",
        "score = rnn.evaluate(X_test, Y_test)\n",
        "print(\"Accuracy: %\",score[1]*100)\n",
        "\n",
        "history.history.keys()\n",
        "\n",
        "plt.figure(1, figsize = (15,8)) \n",
        "    \n",
        "plt.subplot(221)  \n",
        "plt.plot(history.history[\"accuracy\"])  \n",
        "plt.plot(history.history['val_accuracy'])  \n",
        "plt.title('model accuracy')  \n",
        "plt.ylabel('accuracy')  \n",
        "plt.xlabel('epoch')  \n",
        "plt.legend(['train', 'valid']) \n",
        "    \n",
        "plt.subplot(222)  \n",
        "plt.plot(history.history['loss'])  \n",
        "plt.plot(history.history['val_loss'])  \n",
        "plt.title('model loss')  \n",
        "plt.ylabel('loss')  \n",
        "plt.xlabel('epoch')  \n",
        "plt.legend(['train', 'valid']) \n",
        "\n",
        "plt.show()"
      ],
      "execution_count": 19,
      "outputs": [
        {
          "output_type": "stream",
          "text": [
            "Model: \"sequential_3\"\n",
            "_________________________________________________________________\n",
            "Layer (type)                 Output Shape              Param #   \n",
            "=================================================================\n",
            "embedding_3 (Embedding)      (None, 130, 32)           480000    \n",
            "_________________________________________________________________\n",
            "simple_rnn_3 (SimpleRNN)     (None, 16)                784       \n",
            "_________________________________________________________________\n",
            "dense_3 (Dense)              (None, 1)                 17        \n",
            "_________________________________________________________________\n",
            "activation_3 (Activation)    (None, 1)                 0         \n",
            "=================================================================\n",
            "Total params: 480,801\n",
            "Trainable params: 480,801\n",
            "Non-trainable params: 0\n",
            "_________________________________________________________________\n",
            "None\n",
            "Epoch 1/5\n",
            "196/196 [==============================] - 10s 44ms/step - loss: 0.6682 - accuracy: 0.5847 - val_loss: 0.8891 - val_accuracy: 0.6364\n",
            "Epoch 2/5\n",
            "196/196 [==============================] - 8s 43ms/step - loss: 0.4389 - accuracy: 0.8219 - val_loss: 0.4334 - val_accuracy: 0.8198\n",
            "Epoch 3/5\n",
            "196/196 [==============================] - 8s 43ms/step - loss: 0.3211 - accuracy: 0.8700 - val_loss: 0.3544 - val_accuracy: 0.8392\n",
            "Epoch 4/5\n",
            "196/196 [==============================] - 8s 42ms/step - loss: 0.2594 - accuracy: 0.8957 - val_loss: 0.4172 - val_accuracy: 0.8169\n",
            "Epoch 5/5\n",
            "196/196 [==============================] - 8s 43ms/step - loss: 0.2396 - accuracy: 0.9068 - val_loss: 0.3531 - val_accuracy: 0.8452\n",
            "782/782 [==============================] - 5s 6ms/step - loss: 0.3531 - accuracy: 0.8452\n",
            "Accuracy: % 84.51600074768066\n"
          ],
          "name": "stdout"
        },
        {
          "output_type": "display_data",
          "data": {
            "image/png": "[encoded data removed]",
            "text/plain": [
              "<Figure size 1080x576 with 2 Axes>"
            ]
          },
          "metadata": {
            "tags": [],
            "needs_background": "light"
          }
        }
      ]
    }
  ]
}