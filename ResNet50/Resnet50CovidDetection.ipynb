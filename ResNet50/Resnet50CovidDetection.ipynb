{
  "nbformat": 4,
  "nbformat_minor": 0,
  "metadata": {
    "colab": {
      "name": "Resnet50CovidDetection.ipynb",
      "provenance": [],
      "collapsed_sections": []
    },
    "kernelspec": {
      "name": "python3",
      "display_name": "Python 3"
    },
    "language_info": {
      "name": "python"
    }
  },
  "cells": [
    {
      "cell_type": "code",
      "metadata": {
        "id": "BTypmep8uzm-"
      },
      "source": [
        "from tensorflow.keras.models import Sequential\n",
        "from tensorflow.keras.models import Model\n",
        "from tensorflow.keras.layers import Dense, Conv2D, Flatten, Dropout, MaxPooling2D, BatchNormalization,GlobalAveragePooling2D\n",
        "from tensorflow.keras.applications.resnet50 import ResNet50\n",
        "from tensorflow.keras.preprocessing import image\n",
        "from tensorflow.keras.preprocessing.image import ImageDataGenerator, load_img\n",
        "import numpy as np\n",
        "import matplotlib.pyplot as plt"
      ],
      "execution_count": 1,
      "outputs": []
    },
    {
      "cell_type": "code",
      "metadata": {
        "colab": {
          "base_uri": "https://localhost:8080/"
        },
        "id": "gsyvQgYWv5RO",
        "outputId": "9ed4f6ac-3d35-40f7-9886-0b0acbdbc6f9"
      },
      "source": [
        "! git clone https://github.com/ugurarabaci/datasets"
      ],
      "execution_count": 2,
      "outputs": [
        {
          "output_type": "stream",
          "text": [
            "Cloning into 'datasets'...\n",
            "remote: Enumerating objects: 2301, done.\u001b[K\n",
            "remote: Total 2301 (delta 0), reused 0 (delta 0), pack-reused 2301\u001b[K\n",
            "Receiving objects: 100% (2301/2301), 1.31 GiB | 24.55 MiB/s, done.\n",
            "Checking out files: 100% (2295/2295), done.\n"
          ],
          "name": "stdout"
        }
      ]
    },
    {
      "cell_type": "code",
      "metadata": {
        "id": "sFBqcknwv8ll"
      },
      "source": [
        "import os \n",
        "dosya_konumu= '/content/datasets/Data'\n",
        "train_konumu= os.path.join(dosya_konumu, 'train')\n",
        "test_konumu= os.path.join(dosya_konumu, 'test')\n",
        "train_covid_konumu= os.path.join(train_konumu, 'COVID19')\n",
        "train_normal_konumu= os.path.join(train_konumu, 'NORMAL')\n",
        "test_covid_konumu= os.path.join(test_konumu, 'COVID19')\n",
        "test_normal_konumu= os.path.join(test_konumu, 'NORMAL')\n",
        "\n"
      ],
      "execution_count": 3,
      "outputs": []
    },
    {
      "cell_type": "code",
      "metadata": {
        "colab": {
          "base_uri": "https://localhost:8080/"
        },
        "id": "lUJGviLFy7sh",
        "outputId": "88fa5134-5996-4886-cccc-6031612658f0"
      },
      "source": [
        "train_datagen= ImageDataGenerator(rescale=1./255,\n",
        "                                  validation_split=0.2,\n",
        "                                  zoom_range=0.2,\n",
        "                                  horizontal_flip= True)\n",
        "\n",
        "validation_datagen=ImageDataGenerator(rescale=1./255)\n",
        "\n",
        "test_datagen=ImageDataGenerator(rescale=1./255)\n",
        "\n",
        "train_generator=train_datagen.flow_from_directory(train_konumu ,\n",
        "                                                  target_size=(224,224),\n",
        "                                                  subset='training',\n",
        "                                                  batch_size=32,\n",
        "                                                  class_mode= 'binary')\n",
        "\n",
        "\n",
        "validation_generator=train_datagen.flow_from_directory(train_konumu ,\n",
        "                                                  target_size=(224,224),\n",
        "                                                  subset='validation',\n",
        "                                                  batch_size=32,\n",
        "                                                  class_mode= 'binary')\n",
        "\n",
        "\n",
        "test_generator=test_datagen.flow_from_directory(test_konumu ,\n",
        "                                                  target_size=(224,224),\n",
        "                                                  batch_size=1,\n",
        "                                                  class_mode= 'binary')\n"
      ],
      "execution_count": 4,
      "outputs": [
        {
          "output_type": "stream",
          "text": [
            "Found 1449 images belonging to 2 classes.\n",
            "Found 362 images belonging to 2 classes.\n",
            "Found 484 images belonging to 2 classes.\n"
          ],
          "name": "stdout"
        }
      ]
    },
    {
      "cell_type": "code",
      "metadata": {
        "colab": {
          "base_uri": "https://localhost:8080/"
        },
        "id": "PkP3C8E55zMt",
        "outputId": "7b9be61f-9300-4f09-edcf-7fe2e2588157"
      },
      "source": [
        "from tensorflow.keras.optimizers import Adam\n",
        "import time\n",
        "\n",
        "\n",
        "\n",
        "\n",
        "base_model = ResNet50(include_top=False, weights='imagenet')\n",
        "x= base_model.output\n",
        "x= GlobalAveragePooling2D()(x)\n",
        "x= Dense(1024, activation='relu')(x)\n",
        "predictions = Dense(train_generator.num_classes, activation='softmax')(x)\n",
        "model= Model(inputs=base_model.input, outputs=predictions)\n",
        "\n",
        "for layers in base_model.layers:\n",
        "  layers.trainable = False\n",
        "\n",
        "model.compile(loss=\"categorical_crossentropy\",\n",
        "              optimizer=\"adam\",\n",
        "              metrics=[\"accuracy\"])\n",
        "\n",
        "train_data=ImageDataGenerator().flow_from_directory(train_konumu ,\n",
        "                                                  target_size=(224,224))\n",
        "\n",
        "test_data=ImageDataGenerator().flow_from_directory(test_konumu ,\n",
        "                                                  target_size=(224,224))\n",
        "\n",
        "batch_size=32\n",
        "\n",
        "hist=model.fit_generator(train_data,\n",
        "                         steps_per_epoch=1600//batch_size,\n",
        "                         epochs=5,\n",
        "                         validation_data=test_data,\n",
        "                         validation_steps=10)"
      ],
      "execution_count": 27,
      "outputs": [
        {
          "output_type": "stream",
          "text": [
            "Found 1811 images belonging to 2 classes.\n",
            "Found 484 images belonging to 2 classes.\n"
          ],
          "name": "stdout"
        },
        {
          "output_type": "stream",
          "text": [
            "/usr/local/lib/python3.7/dist-packages/tensorflow/python/keras/engine/training.py:1844: UserWarning: `Model.fit_generator` is deprecated and will be removed in a future version. Please use `Model.fit`, which supports generators.\n",
            "  warnings.warn('`Model.fit_generator` is deprecated and '\n"
          ],
          "name": "stderr"
        },
        {
          "output_type": "stream",
          "text": [
            "Epoch 1/5\n",
            "50/50 [==============================] - 349s 7s/step - loss: 1.3826 - accuracy: 0.8264 - val_loss: 0.1049 - val_accuracy: 0.9750\n",
            "Epoch 2/5\n",
            "50/50 [==============================] - 340s 7s/step - loss: 0.0211 - accuracy: 0.9919 - val_loss: 0.0779 - val_accuracy: 0.9750\n",
            "Epoch 3/5\n",
            "50/50 [==============================] - 346s 7s/step - loss: 0.0368 - accuracy: 0.9896 - val_loss: 0.0278 - val_accuracy: 0.9906\n",
            "Epoch 4/5\n",
            "50/50 [==============================] - 351s 7s/step - loss: 0.0114 - accuracy: 0.9959 - val_loss: 0.0145 - val_accuracy: 0.9937\n",
            "Epoch 5/5\n",
            "50/50 [==============================] - 346s 7s/step - loss: 0.0076 - accuracy: 0.9975 - val_loss: 0.0029 - val_accuracy: 1.0000\n"
          ],
          "name": "stdout"
        }
      ]
    },
    {
      "cell_type": "code",
      "metadata": {
        "colab": {
          "base_uri": "https://localhost:8080/",
          "height": 276
        },
        "id": "8u3DT8g2i143",
        "outputId": "fe772426-1047-4e48-c2e3-94768978a0b2"
      },
      "source": [
        "plt.figure(1, figsize = (15,8)) \n",
        "    \n",
        "plt.subplot(221)  \n",
        "plt.plot(hist.history[\"accuracy\"])  \n",
        "plt.plot(hist.history['val_accuracy'])  \n",
        "plt.title('model accuracy')  \n",
        "plt.ylabel('accuracy')  \n",
        "plt.xlabel('epoch')  \n",
        "plt.legend(['train', 'valid']) \n",
        "    \n",
        "plt.subplot(222)  \n",
        "plt.plot(hist.history['loss'])  \n",
        "plt.plot(hist.history['val_loss'])  \n",
        "plt.title('model loss')  \n",
        "plt.ylabel('loss')  \n",
        "plt.xlabel('epoch')  \n",
        "plt.legend(['train', 'valid']) \n",
        "\n",
        "plt.show()"
      ],
      "execution_count": 31,
      "outputs": [
        {
          "output_type": "display_data",
          "data": {
            "image/png": "[encoded data removed]",
            "text/plain": [
              "<Figure size 1080x576 with 2 Axes>"
            ]
          },
          "metadata": {
            "tags": [],
            "needs_background": "light"
          }
        }
      ]
    }
  ]
}