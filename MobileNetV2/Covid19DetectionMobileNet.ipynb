{
  "nbformat": 4,
  "nbformat_minor": 0,
  "metadata": {
    "colab": {
      "name": "Covid19DetectionMobileNet.ipynb",
      "provenance": [],
      "collapsed_sections": []
    },
    "kernelspec": {
      "name": "python3",
      "display_name": "Python 3"
    },
    "language_info": {
      "name": "python"
    }
  },
  "cells": [
    {
      "cell_type": "code",
      "metadata": {
        "id": "P6sgXrqSUGL9"
      },
      "source": [
        "from tensorflow.keras.models import Sequential\n",
        "from tensorflow.keras.layers import Dense, Conv2D, Flatten, Dropout, MaxPooling2D\n",
        "from tensorflow.keras.preprocessing.image import ImageDataGenerator\n",
        "import numpy as np\n",
        "import matplotlib.pyplot as plt\n"
      ],
      "execution_count": 1,
      "outputs": []
    },
    {
      "cell_type": "code",
      "metadata": {
        "colab": {
          "base_uri": "https://localhost:8080/"
        },
        "id": "6RILURGEURZl",
        "outputId": "64b2891c-d8f6-48ad-e27b-7c54662156a7"
      },
      "source": [
        "! git clone https://github.com/ugurarabaci/datasets"
      ],
      "execution_count": 2,
      "outputs": [
        {
          "output_type": "stream",
          "text": [
            "Cloning into 'datasets'...\n",
            "remote: Enumerating objects: 2301, done.\u001b[K\n",
            "remote: Total 2301 (delta 0), reused 0 (delta 0), pack-reused 2301\u001b[K\n",
            "Receiving objects: 100% (2301/2301), 1.31 GiB | 20.16 MiB/s, done.\n",
            "Checking out files: 100% (2295/2295), done.\n"
          ],
          "name": "stdout"
        }
      ]
    },
    {
      "cell_type": "code",
      "metadata": {
        "id": "jLZiIskhUUGk"
      },
      "source": [
        "import os \n",
        "dosya_konumu= '/content/datasets/Data'\n",
        "train_konumu= os.path.join(dosya_konumu, 'train')\n",
        "test_konumu= os.path.join(dosya_konumu, 'test')\n",
        "train_covid_konumu= os.path.join(train_konumu, 'COVID19')\n",
        "train_normal_konumu= os.path.join(train_konumu, 'NORMAL')\n",
        "test_covid_konumu= os.path.join(test_konumu, 'COVID19')\n",
        "test_normal_konumu= os.path.join(test_konumu, 'NORMAL')\n"
      ],
      "execution_count": 3,
      "outputs": []
    },
    {
      "cell_type": "code",
      "metadata": {
        "colab": {
          "base_uri": "https://localhost:8080/"
        },
        "id": "WsGPbyQoUYfl",
        "outputId": "40684d65-0c2a-4167-dfad-28eaea2ff62b"
      },
      "source": [
        "train_datagen= ImageDataGenerator(rescale=1./255,\n",
        "                                  validation_split=0.2,\n",
        "                                  zoom_range=0.2,\n",
        "                                  horizontal_flip= True)\n",
        "\n",
        "validation_datagen=ImageDataGenerator(rescale=1./255)\n",
        "\n",
        "test_datagen=ImageDataGenerator(rescale=1./255)\n",
        "\n",
        "train_generator=train_datagen.flow_from_directory(train_konumu ,\n",
        "                                                  target_size=(224,224),\n",
        "                                                  subset='training',\n",
        "                                                  batch_size=32,\n",
        "                                                  class_mode= 'binary')\n",
        "\n",
        "\n",
        "validation_generator=train_datagen.flow_from_directory(train_konumu ,\n",
        "                                                  target_size=(224,224),\n",
        "                                                  subset='validation',\n",
        "                                                  batch_size=32,\n",
        "                                                  class_mode= 'binary')\n",
        "\n",
        "\n",
        "test_generator=test_datagen.flow_from_directory(test_konumu ,\n",
        "                                                  target_size=(224,224),\n",
        "                                                  batch_size=1,\n",
        "                                                  class_mode= 'binary')\n"
      ],
      "execution_count": 4,
      "outputs": [
        {
          "output_type": "stream",
          "text": [
            "Found 1449 images belonging to 2 classes.\n",
            "Found 362 images belonging to 2 classes.\n",
            "Found 484 images belonging to 2 classes.\n"
          ],
          "name": "stdout"
        }
      ]
    },
    {
      "cell_type": "code",
      "metadata": {
        "colab": {
          "base_uri": "https://localhost:8080/"
        },
        "id": "gax0_2wrUmrZ",
        "outputId": "dd01df2a-c2cd-430b-f7e5-673e0fa0d0ac"
      },
      "source": [
        "import tensorflow as tf\n",
        "from tensorflow.keras.applications.resnet50 import ResNet50\n",
        "from tensorflow.keras.applications import MobileNetV2\n",
        "from tensorflow.keras.models import Sequential\n",
        "from tensorflow.keras.layers import Flatten\n",
        "from tensorflow.keras.layers import Dense\n",
        "import numpy as np\n",
        "from itertools import cycle\n",
        "\n",
        "from sklearn import svm, datasets\n",
        "from sklearn.metrics import roc_curve, auc\n",
        "from sklearn.model_selection import train_test_split\n",
        "from sklearn.preprocessing import label_binarize\n",
        "from sklearn.multiclass import OneVsRestClassifier\n",
        "from scipy import interp\n",
        "from sklearn.metrics import roc_auc_score\n",
        "\n",
        "model = Sequential()\n",
        "model.add(MobileNetV2(include_top = False, weights=\"imagenet\", input_shape=(200, 200, 3)))\n",
        "model.add(tf.keras.layers.GlobalAveragePooling2D())\n",
        "model.add(Dense(1, activation = 'sigmoid'))\n",
        "model.layers[0].trainable = False"
      ],
      "execution_count": 6,
      "outputs": [
        {
          "output_type": "stream",
          "text": [
            "WARNING:tensorflow:`input_shape` is undefined or non-square, or `rows` is not in [96, 128, 160, 192, 224]. Weights for input shape (224, 224) will be loaded as the default.\n",
            "Downloading data from https://storage.googleapis.com/tensorflow/keras-applications/mobilenet_v2/mobilenet_v2_weights_tf_dim_ordering_tf_kernels_1.0_224_no_top.h5\n",
            "9412608/9406464 [==============================] - 0s 0us/step\n"
          ],
          "name": "stdout"
        }
      ]
    },
    {
      "cell_type": "code",
      "metadata": {
        "id": "x3TYUxYvUqWY"
      },
      "source": [
        "from tensorflow.keras.optimizers import RMSprop\n",
        "from tensorflow.keras import optimizers\n",
        "\n",
        "model.compile(optimizer=RMSprop(lr=0.01), loss = 'binary_crossentropy', metrics = 'accuracy')"
      ],
      "execution_count": 7,
      "outputs": []
    },
    {
      "cell_type": "code",
      "metadata": {
        "colab": {
          "base_uri": "https://localhost:8080/"
        },
        "id": "4oiHZdkkUuzE",
        "outputId": "100f05ca-cd4f-4625-f9be-20febbb1046c"
      },
      "source": [
        "history = model.fit(train_generator,\n",
        "steps_per_epoch=8,\n",
        "epochs=15,\n",
        "verbose=1,\n",
        "validation_data = validation_generator,\n",
        "validation_steps=8)"
      ],
      "execution_count": 8,
      "outputs": [
        {
          "output_type": "stream",
          "text": [
            "Epoch 1/15\n",
            "8/8 [==============================] - 41s 5s/step - loss: 1.3756 - accuracy: 0.6259 - val_loss: 0.0991 - val_accuracy: 0.9688\n",
            "Epoch 2/15\n",
            "8/8 [==============================] - 33s 4s/step - loss: 0.0799 - accuracy: 0.9652 - val_loss: 0.0827 - val_accuracy: 0.9688\n",
            "Epoch 3/15\n",
            "8/8 [==============================] - 35s 5s/step - loss: 0.0662 - accuracy: 0.9723 - val_loss: 0.1273 - val_accuracy: 0.9453\n",
            "Epoch 4/15\n",
            "8/8 [==============================] - 33s 4s/step - loss: 0.1033 - accuracy: 0.9560 - val_loss: 0.1092 - val_accuracy: 0.9531\n",
            "Epoch 5/15\n",
            "8/8 [==============================] - 33s 4s/step - loss: 0.0364 - accuracy: 0.9837 - val_loss: 0.2301 - val_accuracy: 0.9180\n",
            "Epoch 6/15\n",
            "8/8 [==============================] - 34s 4s/step - loss: 0.2772 - accuracy: 0.9151 - val_loss: 0.0654 - val_accuracy: 0.9727\n",
            "Epoch 7/15\n",
            "8/8 [==============================] - 35s 5s/step - loss: 0.0435 - accuracy: 0.9817 - val_loss: 0.0405 - val_accuracy: 0.9883\n",
            "Epoch 8/15\n",
            "8/8 [==============================] - 33s 4s/step - loss: 0.1453 - accuracy: 0.9337 - val_loss: 0.0377 - val_accuracy: 0.9883\n",
            "Epoch 9/15\n",
            "8/8 [==============================] - 35s 5s/step - loss: 0.0180 - accuracy: 0.9945 - val_loss: 0.0731 - val_accuracy: 0.9727\n",
            "Epoch 10/15\n",
            "8/8 [==============================] - 34s 4s/step - loss: 0.1010 - accuracy: 0.9778 - val_loss: 0.0584 - val_accuracy: 0.9844\n",
            "Epoch 11/15\n",
            "8/8 [==============================] - 35s 5s/step - loss: 0.0319 - accuracy: 0.9886 - val_loss: 0.1838 - val_accuracy: 0.9180\n",
            "Epoch 12/15\n",
            "8/8 [==============================] - 34s 5s/step - loss: 0.1107 - accuracy: 0.9538 - val_loss: 0.0223 - val_accuracy: 0.9922\n",
            "Epoch 13/15\n",
            "8/8 [==============================] - 34s 5s/step - loss: 0.2621 - accuracy: 0.9217 - val_loss: 0.0513 - val_accuracy: 0.9766\n",
            "Epoch 14/15\n",
            "8/8 [==============================] - 34s 4s/step - loss: 0.0203 - accuracy: 0.9896 - val_loss: 0.0196 - val_accuracy: 0.9922\n",
            "Epoch 15/15\n",
            "8/8 [==============================] - 36s 5s/step - loss: 0.0116 - accuracy: 0.9973 - val_loss: 0.1330 - val_accuracy: 0.9375\n"
          ],
          "name": "stdout"
        }
      ]
    },
    {
      "cell_type": "code",
      "metadata": {
        "colab": {
          "base_uri": "https://localhost:8080/"
        },
        "id": "OreHg0bbUyMZ",
        "outputId": "b519d331-88c4-4436-cab5-4f50e2c3b744"
      },
      "source": [
        "model.evaluate(validation_generator)\n"
      ],
      "execution_count": 9,
      "outputs": [
        {
          "output_type": "stream",
          "text": [
            "12/12 [==============================] - 22s 2s/step - loss: 0.1005 - accuracy: 0.9475\n"
          ],
          "name": "stdout"
        },
        {
          "output_type": "execute_result",
          "data": {
            "text/plain": [
              "[0.10048604756593704, 0.9475138187408447]"
            ]
          },
          "metadata": {
            "tags": []
          },
          "execution_count": 9
        }
      ]
    },
    {
      "cell_type": "code",
      "metadata": {
        "colab": {
          "base_uri": "https://localhost:8080/"
        },
        "id": "s7B0MTJIZg06",
        "outputId": "20e9f2ab-b2e6-4e22-f35e-688ee8744b8f"
      },
      "source": [
        "STEP_SIZE_TEST=validation_generator.n//validation_generator.batch_size\n",
        "validation_generator.reset()\n",
        "preds = model.predict(validation_generator,\n",
        "                      verbose=1)"
      ],
      "execution_count": 10,
      "outputs": [
        {
          "output_type": "stream",
          "text": [
            "12/12 [==============================] - 23s 2s/step\n"
          ],
          "name": "stdout"
        }
      ]
    },
    {
      "cell_type": "code",
      "metadata": {
        "id": "4S66Dsx_Zj0A"
      },
      "source": [
        "fpr, tpr, _ = roc_curve(validation_generator.classes, preds)"
      ],
      "execution_count": 11,
      "outputs": []
    },
    {
      "cell_type": "code",
      "metadata": {
        "id": "KCLsmhweZmUf"
      },
      "source": [
        "roc_auc = auc(fpr, tpr)"
      ],
      "execution_count": 12,
      "outputs": []
    },
    {
      "cell_type": "code",
      "metadata": {
        "colab": {
          "base_uri": "https://localhost:8080/",
          "height": 295
        },
        "id": "OUG53jGHZpG7",
        "outputId": "0aeb0573-4324-4ebd-caf7-d3422914627f"
      },
      "source": [
        "plt.figure()\n",
        "lw = 2\n",
        "plt.plot(fpr, tpr, color='darkorange',\n",
        "         lw=lw, label='ROC curve (area = %0.2f)' % roc_auc)\n",
        "plt.plot([0, 1], [0, 1], color='navy', lw=lw, linestyle='--')\n",
        "plt.xlim([0.0, 1.0])\n",
        "plt.ylim([0.0, 1.05])\n",
        "plt.xlabel('False Positive Rate')\n",
        "plt.ylabel('True Positive Rate')\n",
        "plt.title('Receiver Operating Characteristic')\n",
        "plt.legend(loc=\"lower right\")\n",
        "plt.show()"
      ],
      "execution_count": 13,
      "outputs": [
        {
          "output_type": "display_data",
          "data": {
            "image/png": "[encoded data removed]",
            "text/plain": [
              "<Figure size 432x288 with 1 Axes>"
            ]
          },
          "metadata": {
            "tags": [],
            "needs_background": "light"
          }
        }
      ]
    },
    {
      "cell_type": "code",
      "metadata": {
        "colab": {
          "base_uri": "https://localhost:8080/",
          "height": 463
        },
        "id": "60OmNcvmcALt",
        "outputId": "fe85c2c5-9462-4572-e95f-7364fe16ed96"
      },
      "source": [
        "from keras.preprocessing import image\n",
        "from keras.preprocessing.image import load_img, img_to_array\n",
        "\n",
        "\n",
        "y_actual =[]\n",
        "y_test =[]\n",
        " \n",
        "for i in os.listdir(\"/content/datasets/Data/test/COVID19\"):\n",
        "  img = image.load_img(\"/content/datasets/Data/test/COVID19/\"+i,target_size=(224,224))\n",
        "  img = image.img_to_array(img)\n",
        "  img = np.expand_dims(img,axis=0)\n",
        "  p=model.predict_classes(img)\n",
        "  y_test.append(p[0,0])\n",
        "  y_actual.append(0)\n",
        " \n",
        " \n",
        "for i in os.listdir(\"/content/datasets/Data/test/NORMAL\"):\n",
        "  img = image.load_img(\"/content/datasets/Data/test/NORMAL/\"+i,target_size=(224,224))\n",
        "  img = image.img_to_array(img)\n",
        "  img = np.expand_dims(img,axis=0)\n",
        "  p=model.predict_classes(img)\n",
        "  y_test.append(p[0,0])\n",
        "  y_actual.append(1)\n",
        " \n",
        " \n",
        "y_actual = np.array(y_actual)\n",
        "y_test = np.array(y_test)\n",
        " \n",
        "from sklearn.metrics import confusion_matrix\n",
        "cm = confusion_matrix(y_actual,y_test)\n",
        " \n",
        "import seaborn as sns\n",
        "sns.heatmap(cm,cmap='plasma',fmt=\"d\",annot=True)\n",
        " \n",
        "from sklearn import metrics\n",
        "print(metrics.classification_report(y_actual,y_test))"
      ],
      "execution_count": 29,
      "outputs": [
        {
          "output_type": "stream",
          "text": [
            "/usr/local/lib/python3.7/dist-packages/tensorflow/python/keras/engine/sequential.py:450: UserWarning: `model.predict_classes()` is deprecated and will be removed after 2021-01-01. Please use instead:* `np.argmax(model.predict(x), axis=-1)`,   if your model does multi-class classification   (e.g. if it uses a `softmax` last-layer activation).* `(model.predict(x) > 0.5).astype(\"int32\")`,   if your model does binary classification   (e.g. if it uses a `sigmoid` last-layer activation).\n",
            "  warnings.warn('`model.predict_classes()` is deprecated and '\n"
          ],
          "name": "stderr"
        },
        {
          "output_type": "stream",
          "text": [
            "              precision    recall  f1-score   support\n",
            "\n",
            "           0       0.39      0.93      0.55       167\n",
            "           1       0.86      0.22      0.35       317\n",
            "\n",
            "    accuracy                           0.46       484\n",
            "   macro avg       0.62      0.58      0.45       484\n",
            "weighted avg       0.70      0.46      0.42       484\n",
            "\n"
          ],
          "name": "stdout"
        },
        {
          "output_type": "display_data",
          "data": {
            "image/png": "[encoded data removed]",
            "text/plain": [
              "<Figure size 432x288 with 2 Axes>"
            ]
          },
          "metadata": {
            "tags": [],
            "needs_background": "light"
          }
        }
      ]
    }
  ]
}